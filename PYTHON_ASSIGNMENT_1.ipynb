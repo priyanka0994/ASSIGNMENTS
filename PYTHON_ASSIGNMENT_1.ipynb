{
 "cells": [
  {
   "cell_type": "markdown",
   "metadata": {},
   "source": [
    "# ASSIGNMENT-1"
   ]
  },
  {
   "cell_type": "code",
   "execution_count": null,
   "metadata": {},
   "outputs": [],
   "source": [
    "#Q1.\n",
    "'''1. What are the differences between operators and values in the following?\n",
    "*\n",
    "'hello'\n",
    "-87.8\n",
    "-\n",
    "/\n",
    "+\n",
    "6'''\n",
    "#Ans.\n",
    "'''The operators are always represented with the special characterslike *,-,/,+ and values are always represented with the integer\n",
    "or string value like 'hello',-87.8,6'''\n"
   ]
  },
  {
   "cell_type": "code",
   "execution_count": null,
   "metadata": {},
   "outputs": [],
   "source": [
    "#Q2\n",
    "'''2. What is the difference between string and variable?\n",
    "spam\n",
    "'spam'\n",
    "'''\n",
    "\n",
    "#Ans\n",
    "\"\"\"\"A String is always enclosed in single or double quotes where a variable is simply represented without any quotes from the \n",
    "above question spam is Variable and 'spam' represents String ss\"\"\""
   ]
  },
  {
   "cell_type": "code",
   "execution_count": null,
   "metadata": {},
   "outputs": [],
   "source": [
    "#Q3\n",
    "#3. Describe three different data forms.\n",
    "\n",
    "#Ans\n",
    "#  Boolean Data: The data which return True or False \n",
    "#String Data: The data which cobntains series of characters or numbers enclosed in quotes.\n",
    "#Integer Data: The data which contains only Numbers\n",
    "#Floating point Data: The data which contains Decimals."
   ]
  },
  {
   "cell_type": "code",
   "execution_count": null,
   "metadata": {},
   "outputs": [],
   "source": [
    "#Q4\n",
    "#4. What makes up an expression? What are the functions of all expressions?\n",
    "'''An expression is a combination of values, variables, and operators. If you type an expression on the command line, \n",
    "the interpreter evaluates it and displays the result'''"
   ]
  },
  {
   "cell_type": "code",
   "execution_count": 5,
   "metadata": {},
   "outputs": [
    {
     "data": {
      "text/plain": [
       "20"
      ]
     },
     "execution_count": 5,
     "metadata": {},
     "output_type": "execute_result"
    }
   ],
   "source": [
    "#Q5\n",
    "'''5. In this chapter, assignment statements such as spam = 10 were added. What's the difference between a declaration and \n",
    "an expression?\n",
    "'''\n",
    "#Ans\n",
    "spam=10\n",
    "spam=spam+10\n",
    "spam"
   ]
  },
  {
   "cell_type": "code",
   "execution_count": 7,
   "metadata": {},
   "outputs": [
    {
     "data": {
      "text/plain": [
       "22"
      ]
     },
     "execution_count": 7,
     "metadata": {},
     "output_type": "execute_result"
    }
   ],
   "source": [
    "#Q6\n",
    "#6. After running the following code, what does the variable bacon contain?\n",
    "bacon = 22\n",
    "bacon + 1\n",
    "bacon\n",
    "#Ans\n",
    "#22"
   ]
  },
  {
   "cell_type": "code",
   "execution_count": 10,
   "metadata": {},
   "outputs": [
    {
     "data": {
      "text/plain": [
       "'spamspamspam'"
      ]
     },
     "execution_count": 10,
     "metadata": {},
     "output_type": "execute_result"
    }
   ],
   "source": [
    "#Q7\n",
    "#7. What should the values of the following two terms be?\n",
    "\n",
    "'spam' + 'spamspam'\n",
    "'spam' * 3\n",
    "\n",
    "#Ans\n",
    "#'spamspamspam'\n",
    "#'spamspamspam'\n",
    "\n",
    "\n"
   ]
  },
  {
   "cell_type": "code",
   "execution_count": 13,
   "metadata": {},
   "outputs": [],
   "source": [
    "#Q8\n",
    "#8. Why is it that eggs is a true variable name but 100 is not?\n",
    "#Ans\n",
    "# A variable name  should not start with number if so it leads to syntax error.so 100 is not considered as variablename\n",
    "# As eggs is a variable name without starting with the integer it is a true variable."
   ]
  },
  {
   "cell_type": "code",
   "execution_count": null,
   "metadata": {},
   "outputs": [],
   "source": [
    "#Q9\n",
    "#9. Which of the following three functions may be used to convert a value to an integer, a floating-point number, or a string?\n",
    "\n",
    "#No options found in questionare."
   ]
  },
  {
   "cell_type": "code",
   "execution_count": 15,
   "metadata": {},
   "outputs": [
    {
     "data": {
      "text/plain": [
       "'I have eaten 99 burritos.'"
      ]
     },
     "execution_count": 15,
     "metadata": {},
     "output_type": "execute_result"
    }
   ],
   "source": [
    "#Q10\n",
    "#10. What is the error caused by this expression? What would you do about it?\n",
    "\n",
    "#'I have eaten ' + 99 + ' burritos.'\n",
    "\n",
    "\n",
    "#Ans\n",
    "#It throws  typeerror : str can only concatenate with str not with int.\n",
    "#to concatinate convert the int to str by enclosing between the quotes.\n",
    "\n",
    "'I have eaten ' +'99' + ' burritos.'\n"
   ]
  },
  {
   "cell_type": "code",
   "execution_count": null,
   "metadata": {},
   "outputs": [],
   "source": []
  }
 ],
 "metadata": {
  "kernelspec": {
   "display_name": "Python 3",
   "language": "python",
   "name": "python3"
  },
  "language_info": {
   "codemirror_mode": {
    "name": "ipython",
    "version": 3
   },
   "file_extension": ".py",
   "mimetype": "text/x-python",
   "name": "python",
   "nbconvert_exporter": "python",
   "pygments_lexer": "ipython3",
   "version": "3.8.5"
  }
 },
 "nbformat": 4,
 "nbformat_minor": 4
}
